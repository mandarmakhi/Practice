{
 "cells": [
  {
   "cell_type": "markdown",
   "metadata": {},
   "source": [
    "# recomendation system"
   ]
  },
  {
   "cell_type": "code",
   "execution_count": 35,
   "metadata": {},
   "outputs": [],
   "source": [
    "# import pandas library \n",
    "import pandas as pd "
   ]
  },
  {
   "cell_type": "code",
   "execution_count": 36,
   "metadata": {},
   "outputs": [],
   "source": [
    "#import dataset \n",
    "books= pd.read_csv(\"C:/Users/Mandar/Desktop/data/assignments/recomendation system/books.csv\",header=0,encoding='ISO-8859-1',names=['unname','Users','book_title','book_author','publisher','ratings'])"
   ]
  },
  {
   "cell_type": "code",
   "execution_count": 37,
   "metadata": {},
   "outputs": [
    {
     "data": {
      "text/html": [
       "<div>\n",
       "<style scoped>\n",
       "    .dataframe tbody tr th:only-of-type {\n",
       "        vertical-align: middle;\n",
       "    }\n",
       "\n",
       "    .dataframe tbody tr th {\n",
       "        vertical-align: top;\n",
       "    }\n",
       "\n",
       "    .dataframe thead th {\n",
       "        text-align: right;\n",
       "    }\n",
       "</style>\n",
       "<table border=\"1\" class=\"dataframe\">\n",
       "  <thead>\n",
       "    <tr style=\"text-align: right;\">\n",
       "      <th></th>\n",
       "      <th>unname</th>\n",
       "      <th>Users</th>\n",
       "      <th>book_title</th>\n",
       "      <th>book_author</th>\n",
       "      <th>publisher</th>\n",
       "      <th>ratings</th>\n",
       "    </tr>\n",
       "  </thead>\n",
       "  <tbody>\n",
       "    <tr>\n",
       "      <td>0</td>\n",
       "      <td>1</td>\n",
       "      <td>1</td>\n",
       "      <td>Classical Mythology</td>\n",
       "      <td>Mark P. O. Morford</td>\n",
       "      <td>Oxford University Press</td>\n",
       "      <td>0</td>\n",
       "    </tr>\n",
       "    <tr>\n",
       "      <td>1</td>\n",
       "      <td>2</td>\n",
       "      <td>2</td>\n",
       "      <td>Clara Callan</td>\n",
       "      <td>Richard Bruce Wright</td>\n",
       "      <td>HarperFlamingo Canada</td>\n",
       "      <td>5</td>\n",
       "    </tr>\n",
       "    <tr>\n",
       "      <td>2</td>\n",
       "      <td>3</td>\n",
       "      <td>3</td>\n",
       "      <td>Decision in Normandy</td>\n",
       "      <td>Carlo D'Este</td>\n",
       "      <td>HarperPerennial</td>\n",
       "      <td>0</td>\n",
       "    </tr>\n",
       "    <tr>\n",
       "      <td>3</td>\n",
       "      <td>4</td>\n",
       "      <td>4</td>\n",
       "      <td>Flu: The Story of the Great Influenza Pandemic...</td>\n",
       "      <td>Gina Bari Kolata</td>\n",
       "      <td>Farrar Straus Giroux</td>\n",
       "      <td>3</td>\n",
       "    </tr>\n",
       "    <tr>\n",
       "      <td>4</td>\n",
       "      <td>5</td>\n",
       "      <td>5</td>\n",
       "      <td>The Mummies of Urumchi</td>\n",
       "      <td>E. J. W. Barber</td>\n",
       "      <td>W. W. Norton &amp;amp; Company</td>\n",
       "      <td>6</td>\n",
       "    </tr>\n",
       "  </tbody>\n",
       "</table>\n",
       "</div>"
      ],
      "text/plain": [
       "   unname  Users                                         book_title  \\\n",
       "0       1      1                                Classical Mythology   \n",
       "1       2      2                                       Clara Callan   \n",
       "2       3      3                               Decision in Normandy   \n",
       "3       4      4  Flu: The Story of the Great Influenza Pandemic...   \n",
       "4       5      5                             The Mummies of Urumchi   \n",
       "\n",
       "            book_author                   publisher  ratings  \n",
       "0    Mark P. O. Morford     Oxford University Press        0  \n",
       "1  Richard Bruce Wright       HarperFlamingo Canada        5  \n",
       "2          Carlo D'Este             HarperPerennial        0  \n",
       "3      Gina Bari Kolata        Farrar Straus Giroux        3  \n",
       "4       E. J. W. Barber  W. W. Norton &amp; Company        6  "
      ]
     },
     "execution_count": 37,
     "metadata": {},
     "output_type": "execute_result"
    }
   ],
   "source": [
    "books.head()\n"
   ]
  },
  {
   "cell_type": "code",
   "execution_count": 38,
   "metadata": {},
   "outputs": [
    {
     "data": {
      "text/plain": [
       "(5000, 6)"
      ]
     },
     "execution_count": 38,
     "metadata": {},
     "output_type": "execute_result"
    }
   ],
   "source": [
    "books.shape"
   ]
  },
  {
   "cell_type": "code",
   "execution_count": 39,
   "metadata": {},
   "outputs": [
    {
     "data": {
      "text/plain": [
       "Index(['unname', 'Users', 'book_title', 'book_author', 'publisher', 'ratings'], dtype='object')"
      ]
     },
     "execution_count": 39,
     "metadata": {},
     "output_type": "execute_result"
    }
   ],
   "source": [
    "books.columns"
   ]
  },
  {
   "cell_type": "code",
   "execution_count": 40,
   "metadata": {},
   "outputs": [],
   "source": [
    "books01 = books.iloc[0:4000,1:]"
   ]
  },
  {
   "cell_type": "code",
   "execution_count": 41,
   "metadata": {},
   "outputs": [
    {
     "data": {
      "text/html": [
       "<div>\n",
       "<style scoped>\n",
       "    .dataframe tbody tr th:only-of-type {\n",
       "        vertical-align: middle;\n",
       "    }\n",
       "\n",
       "    .dataframe tbody tr th {\n",
       "        vertical-align: top;\n",
       "    }\n",
       "\n",
       "    .dataframe thead th {\n",
       "        text-align: right;\n",
       "    }\n",
       "</style>\n",
       "<table border=\"1\" class=\"dataframe\">\n",
       "  <thead>\n",
       "    <tr style=\"text-align: right;\">\n",
       "      <th></th>\n",
       "      <th>Users</th>\n",
       "      <th>book_title</th>\n",
       "      <th>book_author</th>\n",
       "      <th>publisher</th>\n",
       "      <th>ratings</th>\n",
       "    </tr>\n",
       "  </thead>\n",
       "  <tbody>\n",
       "    <tr>\n",
       "      <td>0</td>\n",
       "      <td>1</td>\n",
       "      <td>Classical Mythology</td>\n",
       "      <td>Mark P. O. Morford</td>\n",
       "      <td>Oxford University Press</td>\n",
       "      <td>0</td>\n",
       "    </tr>\n",
       "    <tr>\n",
       "      <td>1</td>\n",
       "      <td>2</td>\n",
       "      <td>Clara Callan</td>\n",
       "      <td>Richard Bruce Wright</td>\n",
       "      <td>HarperFlamingo Canada</td>\n",
       "      <td>5</td>\n",
       "    </tr>\n",
       "    <tr>\n",
       "      <td>2</td>\n",
       "      <td>3</td>\n",
       "      <td>Decision in Normandy</td>\n",
       "      <td>Carlo D'Este</td>\n",
       "      <td>HarperPerennial</td>\n",
       "      <td>0</td>\n",
       "    </tr>\n",
       "    <tr>\n",
       "      <td>3</td>\n",
       "      <td>4</td>\n",
       "      <td>Flu: The Story of the Great Influenza Pandemic...</td>\n",
       "      <td>Gina Bari Kolata</td>\n",
       "      <td>Farrar Straus Giroux</td>\n",
       "      <td>3</td>\n",
       "    </tr>\n",
       "    <tr>\n",
       "      <td>4</td>\n",
       "      <td>5</td>\n",
       "      <td>The Mummies of Urumchi</td>\n",
       "      <td>E. J. W. Barber</td>\n",
       "      <td>W. W. Norton &amp;amp; Company</td>\n",
       "      <td>6</td>\n",
       "    </tr>\n",
       "  </tbody>\n",
       "</table>\n",
       "</div>"
      ],
      "text/plain": [
       "   Users                                         book_title  \\\n",
       "0      1                                Classical Mythology   \n",
       "1      2                                       Clara Callan   \n",
       "2      3                               Decision in Normandy   \n",
       "3      4  Flu: The Story of the Great Influenza Pandemic...   \n",
       "4      5                             The Mummies of Urumchi   \n",
       "\n",
       "            book_author                   publisher  ratings  \n",
       "0    Mark P. O. Morford     Oxford University Press        0  \n",
       "1  Richard Bruce Wright       HarperFlamingo Canada        5  \n",
       "2          Carlo D'Este             HarperPerennial        0  \n",
       "3      Gina Bari Kolata        Farrar Straus Giroux        3  \n",
       "4       E. J. W. Barber  W. W. Norton &amp; Company        6  "
      ]
     },
     "execution_count": 41,
     "metadata": {},
     "output_type": "execute_result"
    }
   ],
   "source": [
    "books01.head()"
   ]
  },
  {
   "cell_type": "code",
   "execution_count": 42,
   "metadata": {},
   "outputs": [],
   "source": [
    "books01 = books01[~(books01 == 0).any(axis=1)] #remove 0 rating from rows"
   ]
  },
  {
   "cell_type": "code",
   "execution_count": 43,
   "metadata": {},
   "outputs": [
    {
     "data": {
      "text/html": [
       "<div>\n",
       "<style scoped>\n",
       "    .dataframe tbody tr th:only-of-type {\n",
       "        vertical-align: middle;\n",
       "    }\n",
       "\n",
       "    .dataframe tbody tr th {\n",
       "        vertical-align: top;\n",
       "    }\n",
       "\n",
       "    .dataframe thead th {\n",
       "        text-align: right;\n",
       "    }\n",
       "</style>\n",
       "<table border=\"1\" class=\"dataframe\">\n",
       "  <thead>\n",
       "    <tr style=\"text-align: right;\">\n",
       "      <th></th>\n",
       "      <th>Users</th>\n",
       "      <th>book_title</th>\n",
       "      <th>book_author</th>\n",
       "      <th>publisher</th>\n",
       "      <th>ratings</th>\n",
       "    </tr>\n",
       "  </thead>\n",
       "  <tbody>\n",
       "    <tr>\n",
       "      <td>1</td>\n",
       "      <td>2</td>\n",
       "      <td>Clara Callan</td>\n",
       "      <td>Richard Bruce Wright</td>\n",
       "      <td>HarperFlamingo Canada</td>\n",
       "      <td>5</td>\n",
       "    </tr>\n",
       "    <tr>\n",
       "      <td>3</td>\n",
       "      <td>4</td>\n",
       "      <td>Flu: The Story of the Great Influenza Pandemic...</td>\n",
       "      <td>Gina Bari Kolata</td>\n",
       "      <td>Farrar Straus Giroux</td>\n",
       "      <td>3</td>\n",
       "    </tr>\n",
       "    <tr>\n",
       "      <td>4</td>\n",
       "      <td>5</td>\n",
       "      <td>The Mummies of Urumchi</td>\n",
       "      <td>E. J. W. Barber</td>\n",
       "      <td>W. W. Norton &amp;amp; Company</td>\n",
       "      <td>6</td>\n",
       "    </tr>\n",
       "    <tr>\n",
       "      <td>6</td>\n",
       "      <td>7</td>\n",
       "      <td>What If?: The World's Foremost Military Histor...</td>\n",
       "      <td>Robert Cowley</td>\n",
       "      <td>Berkley Publishing Group</td>\n",
       "      <td>8</td>\n",
       "    </tr>\n",
       "    <tr>\n",
       "      <td>7</td>\n",
       "      <td>8</td>\n",
       "      <td>PLEADING GUILTY</td>\n",
       "      <td>Scott Turow</td>\n",
       "      <td>Audioworks</td>\n",
       "      <td>6</td>\n",
       "    </tr>\n",
       "  </tbody>\n",
       "</table>\n",
       "</div>"
      ],
      "text/plain": [
       "   Users                                         book_title  \\\n",
       "1      2                                       Clara Callan   \n",
       "3      4  Flu: The Story of the Great Influenza Pandemic...   \n",
       "4      5                             The Mummies of Urumchi   \n",
       "6      7  What If?: The World's Foremost Military Histor...   \n",
       "7      8                                    PLEADING GUILTY   \n",
       "\n",
       "            book_author                   publisher  ratings  \n",
       "1  Richard Bruce Wright       HarperFlamingo Canada        5  \n",
       "3      Gina Bari Kolata        Farrar Straus Giroux        3  \n",
       "4       E. J. W. Barber  W. W. Norton &amp; Company        6  \n",
       "6         Robert Cowley    Berkley Publishing Group        8  \n",
       "7           Scott Turow                  Audioworks        6  "
      ]
     },
     "execution_count": 43,
     "metadata": {},
     "output_type": "execute_result"
    }
   ],
   "source": [
    "books01.head()"
   ]
  },
  {
   "cell_type": "code",
   "execution_count": 44,
   "metadata": {},
   "outputs": [
    {
     "data": {
      "text/plain": [
       "1                                            Clara Callan\n",
       "3       Flu: The Story of the Great Influenza Pandemic...\n",
       "4                                  The Mummies of Urumchi\n",
       "6       What If?: The World's Foremost Military Histor...\n",
       "7                                         PLEADING GUILTY\n",
       "                              ...                        \n",
       "3992            We Are Still Married: Stories and Letters\n",
       "3993    The Illustrated Discovery Journal : Creating a...\n",
       "3994    Creating a Charmed Life : Sensible, Spiritual ...\n",
       "3995    Eat Mangoes Naked : Finding Pleasure Everywher...\n",
       "3997    All the Joy You Can Stand: 101 Sacred Power Pr...\n",
       "Name: book_title, Length: 1692, dtype: object"
      ]
     },
     "execution_count": 44,
     "metadata": {},
     "output_type": "execute_result"
    }
   ],
   "source": [
    "books01.book_title"
   ]
  },
  {
   "cell_type": "code",
   "execution_count": 45,
   "metadata": {},
   "outputs": [
    {
     "data": {
      "text/plain": [
       "1        Richard Bruce Wright\n",
       "3            Gina Bari Kolata\n",
       "4             E. J. W. Barber\n",
       "6               Robert Cowley\n",
       "7                 Scott Turow\n",
       "                ...          \n",
       "3992         Garrison Keillor\n",
       "3993     Sarah Ban Breathnach\n",
       "3994           Victoria Moran\n",
       "3995                     Sark\n",
       "3997    Debrena Jackson Gandy\n",
       "Name: book_author, Length: 1692, dtype: object"
      ]
     },
     "execution_count": 45,
     "metadata": {},
     "output_type": "execute_result"
    }
   ],
   "source": [
    "books01.book_author"
   ]
  },
  {
   "cell_type": "code",
   "execution_count": 46,
   "metadata": {},
   "outputs": [
    {
     "data": {
      "text/plain": [
       "1            HarperFlamingo Canada\n",
       "3             Farrar Straus Giroux\n",
       "4       W. W. Norton &amp; Company\n",
       "6         Berkley Publishing Group\n",
       "7                       Audioworks\n",
       "                   ...            \n",
       "3992                 Penguin Books\n",
       "3993                  Warner Books\n",
       "3994            HarperSanFrancisco\n",
       "3995                      Fireside\n",
       "3997       Three Rivers Press (CA)\n",
       "Name: publisher, Length: 1692, dtype: object"
      ]
     },
     "execution_count": 46,
     "metadata": {},
     "output_type": "execute_result"
    }
   ],
   "source": [
    "books01.publisher"
   ]
  },
  {
   "cell_type": "code",
   "execution_count": 47,
   "metadata": {},
   "outputs": [],
   "source": [
    "from sklearn.feature_extraction.text import TfidfVectorizer"
   ]
  },
  {
   "cell_type": "code",
   "execution_count": 48,
   "metadata": {},
   "outputs": [
    {
     "data": {
      "text/plain": [
       "0"
      ]
     },
     "execution_count": 48,
     "metadata": {},
     "output_type": "execute_result"
    }
   ],
   "source": [
    "books01['book_author'].isnull().sum()"
   ]
  },
  {
   "cell_type": "code",
   "execution_count": 49,
   "metadata": {},
   "outputs": [],
   "source": [
    "tfid= TfidfVectorizer(stop_words=\"english\")    #taking stop words from tfid vectorizer"
   ]
  },
  {
   "cell_type": "code",
   "execution_count": 50,
   "metadata": {},
   "outputs": [],
   "source": [
    "tfid_matrix = tfid.fit_transform(books01.publisher)"
   ]
  },
  {
   "cell_type": "code",
   "execution_count": 51,
   "metadata": {},
   "outputs": [
    {
     "data": {
      "text/plain": [
       "(1692, 655)"
      ]
     },
     "execution_count": 51,
     "metadata": {},
     "output_type": "execute_result"
    }
   ],
   "source": [
    "tfid_matrix.shape "
   ]
  },
  {
   "cell_type": "code",
   "execution_count": 52,
   "metadata": {},
   "outputs": [],
   "source": [
    "# Lets Find the Similarity Score\n",
    "from sklearn.metrics.pairwise import linear_kernel"
   ]
  },
  {
   "cell_type": "code",
   "execution_count": 53,
   "metadata": {},
   "outputs": [],
   "source": [
    "cosine_sim_matrix = linear_kernel(tfid_matrix,tfid_matrix)"
   ]
  },
  {
   "cell_type": "code",
   "execution_count": 54,
   "metadata": {},
   "outputs": [],
   "source": [
    "books01_index = pd.Series(books01.index,index=books01['book_title']).drop_duplicates()"
   ]
  },
  {
   "cell_type": "code",
   "execution_count": 55,
   "metadata": {},
   "outputs": [
    {
     "data": {
      "text/plain": [
       "1"
      ]
     },
     "execution_count": 55,
     "metadata": {},
     "output_type": "execute_result"
    }
   ],
   "source": [
    "books01_index['Clara Callan']"
   ]
  },
  {
   "cell_type": "code",
   "execution_count": 56,
   "metadata": {},
   "outputs": [],
   "source": [
    "def get_book_recommendations(Name,topN):\n",
    "    \n",
    "   \n",
    "    topN = 10\n",
    "    # The book index using its title \n",
    "    title_id = books01_index[Name]\n",
    "    \n",
    "    # Getting the pair wise similarity score for all the Books with that \n",
    "    # Book\n",
    "    cosine_scores = list(enumerate(cosine_sim_matrix[title_id]))\n",
    "    \n",
    "    # Sorting the cosine_similarity scores based on scores \n",
    "    cosine_scores = sorted(cosine_scores,key=lambda x:x[1],reverse = True)\n",
    "    \n",
    "    # Get the scores of top 10 most similar Books \n",
    "    cosine_scores_10 = cosine_scores[0:topN+1]\n",
    "    \n",
    "    # Getting the Book index \n",
    "    books01_idx  =  [i[0] for i in cosine_scores_10]\n",
    "    books01_scores =  [i[1] for i in cosine_scores_10]\n",
    "    \n",
    "    # Similar Books and scores\n",
    "    book_similar_show = pd.DataFrame(columns=[\"name\",\"Score\"])\n",
    "    book_similar_show[\"name\"] = books01.loc[books01_idx,\"book_title\"]\n",
    "    book_similar_show[\"Score\"] = books01_scores\n",
    "    book_similar_show.reset_index(inplace=True)  \n",
    "    book_similar_show.drop([\"index\"],axis=1,inplace=True)\n",
    "    print (book_similar_show)"
   ]
  },
  {
   "cell_type": "code",
   "execution_count": 59,
   "metadata": {},
   "outputs": [
    {
     "name": "stdout",
     "output_type": "stream",
     "text": [
      "                                                 name     Score\n",
      "0                                     PLEADING GUILTY  1.000000\n",
      "1                   My Father, Dancing (Harvest Book)  1.000000\n",
      "2   Die Grenzen des Geschlechts: Anleitungen zum S...  0.558703\n",
      "3                                        The Carousel  0.558703\n",
      "4               Anne Frank: The Diary of a Young Girl  0.558703\n",
      "5                                                 NaN  0.558703\n",
      "6                                                 NaN  0.405720\n",
      "7   All That Remains (Kay Scarpetta Mysteries (Pap...  0.358259\n",
      "8   Flu: The Story of the Great Influenza Pandemic...  0.181945\n",
      "9                                                 NaN  0.181945\n",
      "10                                                NaN  0.181945\n"
     ]
    }
   ],
   "source": [
    "get_book_recommendations(\"PLEADING GUILTY\",topN=15) "
   ]
  },
  {
   "cell_type": "markdown",
   "metadata": {},
   "source": [
    "# So we can Recommend the book \"My Father, Dancing(Harvest Book) to the Users based on Publsher of Pleading Guilty"
   ]
  },
  {
   "cell_type": "code",
   "execution_count": 58,
   "metadata": {},
   "outputs": [
    {
     "name": "stdout",
     "output_type": "stream",
     "text": [
      "                                                 name     Score\n",
      "0                                        Clara Callan  1.000000\n",
      "1                                      Ralph S. Mouse  1.000000\n",
      "2      XIII, tome 13, L'enquÃ?Âªte : the XIII mystery  1.000000\n",
      "3                       Eeyore's Little Book of Gloom  1.000000\n",
      "4                                                 NaN  1.000000\n",
      "5                                                 NaN  1.000000\n",
      "6                                           Die Nadel  1.000000\n",
      "7                              The Soulbane Stratagem  0.928365\n",
      "8                                                 NaN  0.928365\n",
      "9   Songs in Ordinary Time (Oprah's Book Club (Pap...  0.803688\n",
      "10                                                NaN  0.000000\n"
     ]
    }
   ],
   "source": [
    "get_book_recommendations(\"Clara Callan\",topN=15)"
   ]
  },
  {
   "cell_type": "markdown",
   "metadata": {},
   "source": [
    "# we recommend Books Ralph S. Mouse and 3 more to the Users based on the Publisher of Clara Callan"
   ]
  }
 ],
 "metadata": {
  "kernelspec": {
   "display_name": "Python 3",
   "language": "python",
   "name": "python3"
  },
  "language_info": {
   "codemirror_mode": {
    "name": "ipython",
    "version": 3
   },
   "file_extension": ".py",
   "mimetype": "text/x-python",
   "name": "python",
   "nbconvert_exporter": "python",
   "pygments_lexer": "ipython3",
   "version": "3.7.4"
  }
 },
 "nbformat": 4,
 "nbformat_minor": 2
}
